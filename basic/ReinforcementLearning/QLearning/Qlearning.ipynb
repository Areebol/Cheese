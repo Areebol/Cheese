{
 "cells": [
  {
   "cell_type": "code",
   "execution_count": 1,
   "metadata": {},
   "outputs": [
    {
     "name": "stdout",
     "output_type": "stream",
     "text": [
      "game over\n"
     ]
    }
   ],
   "source": [
    "'''\n",
    "Descripttion: \n",
    "version: 1.0\n",
    "Author: Areebol\n",
    "Date: 2023-07-14 19:52:23\n",
    "'''\n",
    "from maze_env import Maze\n",
    "from RL_brain import QLearningTable\n",
    "def update():\n",
    "    # 学习 100 回合\n",
    "    for episode in range(100):\n",
    "        # 初始化 state 的观测值\n",
    "        observation = env.reset()\n",
    "\n",
    "        while True:\n",
    "            # 更新可视化环境\n",
    "            env.render()\n",
    "\n",
    "            # RL 大脑根据 state 的观测值挑选 action\n",
    "            action = RL.choose_action(str(observation))\n",
    "\n",
    "            # 探索者在环境中实施这个 action, 并得到环境返回的下一个 state 观测值, reward 和 done (是否是掉下地狱或者升上天堂)\n",
    "            observation_, reward, done = env.step(action)\n",
    "\n",
    "            # RL 从这个序列 (state, action, reward, state_) 中学习\n",
    "            RL.learn(str(observation), action, reward, str(observation_))\n",
    "\n",
    "            # 将下一个 state 的值传到下一次循环\n",
    "            observation = observation_\n",
    "\n",
    "            # 如果掉下地狱或者升上天堂, 这回合就结束了\n",
    "            if done:\n",
    "                break\n",
    "\n",
    "    # 结束游戏并关闭窗口\n",
    "    print('game over')\n",
    "    env.destroy()\n",
    "\n",
    "if __name__ == \"__main__\":\n",
    "    # 定义环境 env 和 RL 方式\n",
    "    env = Maze()\n",
    "    RL = QLearningTable(actions=list(range(env.n_actions)))\n",
    "\n",
    "    # 开始可视化环境 env\n",
    "    env.after(100, update)\n",
    "    env.mainloop()"
   ]
  }
 ],
 "metadata": {
  "kernelspec": {
   "display_name": "numpy",
   "language": "python",
   "name": "python3"
  },
  "language_info": {
   "codemirror_mode": {
    "name": "ipython",
    "version": 3
   },
   "file_extension": ".py",
   "mimetype": "text/x-python",
   "name": "python",
   "nbconvert_exporter": "python",
   "pygments_lexer": "ipython3",
   "version": "3.8.17"
  },
  "orig_nbformat": 4
 },
 "nbformat": 4,
 "nbformat_minor": 2
}
